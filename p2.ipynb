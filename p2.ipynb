{
 "cells": [
  {
   "cell_type": "markdown",
   "metadata": {},
   "source": [
    "**Imports**"
   ]
  },
  {
   "cell_type": "code",
   "execution_count": 5,
   "metadata": {},
   "outputs": [],
   "source": [
    "import subprocess\n",
    "import os"
   ]
  },
  {
   "cell_type": "markdown",
   "metadata": {},
   "source": [
    "**1. Conversions**\n",
    "\n"
   ]
  },
  {
   "cell_type": "code",
   "execution_count": 6,
   "metadata": {},
   "outputs": [],
   "source": [
    "def convert_to_vp8(input_path, output_path=\"output_vp8.webm\"):\n",
    "    cmd = [\n",
    "        \"ffmpeg\",\n",
    "        \"-i\", input_path,\n",
    "        \"-c:v\", \"libvpx\",\n",
    "        \"-b:v\", \"1M\",\n",
    "        \"-c:a\", \"libvorbis\",\n",
    "        output_path\n",
    "    ]\n",
    "    subprocess.run(cmd, check=True)\n",
    "    print(f\"VP8 conversion complete: {output_path}\")\n",
    "\n",
    "def convert_to_vp9(input_path, output_path=\"output_vp9.webm\"):\n",
    "    cmd = [\n",
    "        \"ffmpeg\",\n",
    "        \"-i\", input_path,\n",
    "        \"-c:v\", \"libvpx-vp9\",\n",
    "        \"-b:v\", \"1M\",\n",
    "        \"-c:a\", \"libvorbis\",\n",
    "        output_path\n",
    "    ]\n",
    "    subprocess.run(cmd, check=True)\n",
    "    print(f\"VP9 conversion complete: {output_path}\")\n",
    "\n",
    "def convert_to_h265(input_path, output_path=\"output_h265.mp4\"):\n",
    "    cmd = [\n",
    "        \"ffmpeg\",\n",
    "        \"-i\", input_path,\n",
    "        \"-c:v\", \"libx265\",\n",
    "        \"-crf\", \"28\",\n",
    "        \"-c:a\", \"aac\",\n",
    "        'b:a', '128k',\n",
    "        output_path\n",
    "    ]\n",
    "    subprocess.run(cmd, check=True)\n",
    "    print(f\"H265 conversion complete: {output_path}\")\n",
    "\n",
    "\n",
    "def convert_to_av1(input_path, output_path=\"output_av1.mp4\"):\n",
    "    cmd = [\n",
    "        \"ffmpeg\",\n",
    "        \"-i\", input_path,\n",
    "        \"-c:v\", \"libaom-av1\",\n",
    "        \"-crf\", \"30\",\n",
    "        'b:v', '0',\n",
    "        '-strict', 'experimental',\n",
    "        output_path\n",
    "    ]\n",
    "    subprocess.run(cmd, check=True)\n",
    "    print(f\"AV1 conversion complete: {output_path}\")\n",
    "\n",
    "def convert_to_all(input_path):\n",
    "    convert_to_vp8(input_path)\n",
    "    convert_to_vp9(input_path)\n",
    "    convert_to_h265(input_path)\n",
    "    convert_to_av1(input_path)\n",
    "    "
   ]
  },
  {
   "cell_type": "code",
   "execution_count": null,
   "metadata": {},
   "outputs": [],
   "source": [
    "convert_to_all(\"input.mov\")"
   ]
  },
  {
   "cell_type": "markdown",
   "metadata": {},
   "source": [
    "**Encoding Ladder**\n",
    "\n"
   ]
  },
  {
   "cell_type": "code",
   "execution_count": 15,
   "metadata": {},
   "outputs": [],
   "source": [
    "def encode_ladder(input_path, codec=\"h265\", resolutions=None, bitrates=None):\n",
    "    if resolutions is None:\n",
    "        resolutions = ['1920:1080', '1280:720', '854:480', '640:360']\n",
    "    if bitrates is None:\n",
    "        bitrates = ['1000k', '500k', '250k', '125k']\n",
    "    \n",
    "    ext = '.mp4' if codec in ['h265', 'av1'] else '.webm'\n",
    "\n",
    "    for resolution, bitrate in zip(resolutions, bitrates):\n",
    "        output_path = f\"output_{codec}_{resolution.replace(':', 'x')}_{bitrate}.{ext.lstrip('.')}\"\n",
    "        cmd = [\n",
    "            'ffmpeg',\n",
    "            '-i', input_path,\n",
    "            '-vf', f'scale={resolution}',\n",
    "            '-b:v', bitrate,\n",
    "            '-y'  # Overwrite output files without asking\n",
    "        ]\n",
    "        if codec == 'h265':\n",
    "            cmd.extend([\n",
    "                '-c:v', 'libx265',\n",
    "                '-preset', 'fast',  # Faster encoding\n",
    "                '-c:a', 'aac',\n",
    "                '-b:a', '128k'\n",
    "            ])\n",
    "        elif codec == 'vp8':\n",
    "            cmd.extend([\n",
    "                '-c:v', 'libvpx',\n",
    "                '-c:a', 'libvorbis'\n",
    "            ])\n",
    "        elif codec == 'vp9':\n",
    "            cmd.extend([\n",
    "                '-c:v', 'libvpx-vp9',\n",
    "                '-c:a', 'libvorbis'\n",
    "            ])\n",
    "        elif codec == 'av1':\n",
    "            cmd.extend([\n",
    "                '-c:v', 'libaom-av1',\n",
    "                '-strict', 'experimental'\n",
    "            ])\n",
    "        cmd.append(output_path)\n",
    "        try:\n",
    "            result = subprocess.run(cmd, capture_output=True, text=True, check=True)\n",
    "            print(f\"Encoding complete: {output_path}\")\n",
    "        except subprocess.CalledProcessError as e:\n",
    "            print(f\"Error: {e.stderr}\")\n",
    "            raise"
   ]
  },
  {
   "cell_type": "code",
   "execution_count": null,
   "metadata": {},
   "outputs": [],
   "source": [
    "encode_ladder(\"input.mov\")"
   ]
  },
  {
   "cell_type": "code",
   "execution_count": null,
   "metadata": {},
   "outputs": [],
   "source": []
  }
 ],
 "metadata": {
  "kernelspec": {
   "display_name": ".venv",
   "language": "python",
   "name": "python3"
  },
  "language_info": {
   "codemirror_mode": {
    "name": "ipython",
    "version": 3
   },
   "file_extension": ".py",
   "mimetype": "text/x-python",
   "name": "python",
   "nbconvert_exporter": "python",
   "pygments_lexer": "ipython3",
   "version": "3.12.7"
  }
 },
 "nbformat": 4,
 "nbformat_minor": 2
}
