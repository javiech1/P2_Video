{
 "cells": [
  {
   "cell_type": "markdown",
   "metadata": {},
   "source": [
    "**Imports**"
   ]
  },
  {
   "cell_type": "code",
   "execution_count": 5,
   "metadata": {},
   "outputs": [],
   "source": [
    "import subprocess\n",
    "import os"
   ]
  },
  {
   "cell_type": "markdown",
   "metadata": {},
   "source": [
    "**1. Conversions**\n",
    "\n"
   ]
  },
  {
   "cell_type": "code",
   "execution_count": null,
   "metadata": {},
   "outputs": [],
   "source": [
    "def convert_to_vp8(input_path, output_path=\"output_vp8.webm\"):\n",
    "    cmd = [\n",
    "        \"ffmpeg\",\n",
    "        \"-i\", input_path,\n",
    "        \"-c:v\", \"libvpx\",\n",
    "        \"-b:v\", \"1M\",\n",
    "        \"-c:a\", \"libvorbis\",\n",
    "        output_path\n",
    "    ]\n",
    "    subprocess.run(cmd, check=True)\n",
    "    print(f\"VP8 conversion complete: {output_path}\")\n",
    "\n",
    "def convert_to_vp9(input_path, output_path=\"output_vp9.webm\"):\n",
    "    cmd = [\n",
    "        \"ffmpeg\",\n",
    "        \"-i\", input_path,\n",
    "        \"-c:v\", \"libvpx-vp9\",\n",
    "        \"-b:v\", \"1M\",\n",
    "        \"-c:a\", \"libvorbis\",\n",
    "        output_path\n",
    "    ]\n",
    "    subprocess.run(cmd, check=True)\n",
    "    print(f\"VP9 conversion complete: {output_path}\")\n",
    "\n",
    "def convert_to_h265(input_path, output_path=\"output_h265.mp4\"):\n",
    "    cmd = [\n",
    "        \"ffmpeg\",\n",
    "        \"-i\", input_path,\n",
    "        \"-c:v\", \"libx265\",\n",
    "        \"-crf\", \"28\",\n",
    "        \"-c:a\", \"aac\",\n",
    "        'b:a', '128k',\n",
    "        output_path\n",
    "    ]\n",
    "    subprocess.run(cmd, check=True)\n",
    "    print(f\"H265 conversion complete: {output_path}\")\n",
    "\n",
    "\n",
    "def convert_to_av1(input_path, output_path=\"output_av1.mp4\"):\n",
    "    cmd = [\n",
    "        \"ffmpeg\",\n",
    "        \"-i\", input_path,\n",
    "        \"-c:v\", \"libaom-av1\",\n",
    "        \"-crf\", \"30\",\n",
    "        'b:v', '0',\n",
    "        '-strict', 'experimental',\n",
    "        output_path\n",
    "    ]\n",
    "    subprocess.run(cmd, check=True)\n",
    "    print(f\"AV1 conversion complete: {output_path}\")\n",
    "\n",
    "def convert_to_all(input_path):\n",
    "    convert_to_vp8(input_path)\n",
    "    convert_to_vp9(input_path)\n",
    "    convert_to_h265(input_path)\n",
    "    convert_to_av1(input_path)\n",
    "    "
   ]
  }
 ],
 "metadata": {
  "kernelspec": {
   "display_name": ".venv",
   "language": "python",
   "name": "python3"
  },
  "language_info": {
   "codemirror_mode": {
    "name": "ipython",
    "version": 3
   },
   "file_extension": ".py",
   "mimetype": "text/x-python",
   "name": "python",
   "nbconvert_exporter": "python",
   "pygments_lexer": "ipython3",
   "version": "3.12.7"
  }
 },
 "nbformat": 4,
 "nbformat_minor": 2
}
